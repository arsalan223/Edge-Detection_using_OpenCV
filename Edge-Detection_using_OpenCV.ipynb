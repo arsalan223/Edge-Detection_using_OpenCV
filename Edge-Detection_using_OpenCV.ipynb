{
 "cells": [
  {
   "cell_type": "code",
   "execution_count": 1,
   "metadata": {},
   "outputs": [],
   "source": [
    "import cv2 as cv\n",
    "from ipywidgets import interact\n",
    "from PIL import Image"
   ]
  },
  {
   "cell_type": "markdown",
   "metadata": {},
   "source": [
    "# Edge Detector for Images"
   ]
  },
  {
   "cell_type": "code",
   "execution_count": 2,
   "metadata": {},
   "outputs": [
    {
     "data": {
      "application/vnd.jupyter.widget-view+json": {
       "model_id": "9f5b017a7dff436abb04695920635043",
       "version_major": 2,
       "version_minor": 0
      },
      "text/plain": [
       "interactive(children=(IntSlider(value=100, description='threshold1', max=300, min=-100), IntSlider(value=200, …"
      ]
     },
     "metadata": {},
     "output_type": "display_data"
    }
   ],
   "source": [
    "img = cv.imread('ronaldo.jpg', 0) #loading and converting image to Grayscale, converting to grayscale improves accuracy.\n",
    "\n",
    "@interact(threshold1 = 100, threshold2 = 200) #interact decorator, will run the corresponding function if we change values via slider. (on change will only run the function, not the whole cell)\n",
    "def Edge_detector(threshold1, threshold2):\n",
    "    edges = cv.Canny(img, threshold1, threshold2) #Canny method takes image, 1st Threshold & 2nd Threshold\n",
    "    result = Image.fromarray(edges, 'L') #'L' boly'to Luminance (grayscale)\n",
    "    return result"
   ]
  },
  {
   "cell_type": "markdown",
   "metadata": {},
   "source": [
    " # Edge Detector for Video/Webcam"
   ]
  },
  {
   "cell_type": "code",
   "execution_count": 3,
   "metadata": {},
   "outputs": [],
   "source": [
    "video = cv.VideoCapture(0) #captures video from built-in camera. (pass arg. '1' for external webcam & so on), video file can also be passed\n",
    "\n",
    "while True:\n",
    "    check, frame = video.read()\n",
    "    if check == False: #when the video/frames ends the 'check' besomes False and loop will break\n",
    "        break\n",
    "    \n",
    "    gray_frame = cv.cvtColor(frame, cv.COLOR_BGR2GRAY) #converting frame to grayscale\n",
    "    \n",
    "    edges = cv.Canny(gray_frame, 100, 200) #generating edge map using Canny Edge Detector\n",
    "    \n",
    "    cv.imshow('result', edges) #displaying result (args: Name, Image to show)\n",
    "    \n",
    "    key = cv.waitKey(1) #waits for 1ms\n",
    "    if key == ord('q'): #loop will break on pressing 'q'. (ord('q') will return the 'Ordinal Number' of 'q' (i.e: 113) and compare it with pressed key)\n",
    "        break\n",
    "    \n",
    "video.release()\n",
    "cv.destroyAllWindows()"
   ]
  },
  {
   "cell_type": "markdown",
   "metadata": {},
   "source": [
    "# Edge Detector for Video/Webcam (with Sliders)"
   ]
  },
  {
   "cell_type": "code",
   "execution_count": 4,
   "metadata": {},
   "outputs": [
    {
     "data": {
      "application/vnd.jupyter.widget-view+json": {
       "model_id": "af164ca98f814820a6b8c39997426f60",
       "version_major": 2,
       "version_minor": 0
      },
      "text/plain": [
       "interactive(children=(IntSlider(value=100, description='threshold1', max=300, min=-100), IntSlider(value=200, …"
      ]
     },
     "metadata": {},
     "output_type": "display_data"
    }
   ],
   "source": [
    "#this one is for testing and setting the desired values for thresholds\n",
    "\n",
    "@interact(threshold1=100, threshold2=200) \n",
    "def Edge_detector_for_video(threshold1, threshold2):\n",
    "    video = cv.VideoCapture(0)\n",
    "    check, frame = video.read()\n",
    "    gray_frame = cv.cvtColor(frame, cv.COLOR_BGR2GRAY)\n",
    "    edges = cv.Canny(gray_frame, threshold1, threshold2)\n",
    "    result = Image.fromarray(edges, 'L')\n",
    "    video.release()\n",
    "    return result"
   ]
  },
  {
   "cell_type": "code",
   "execution_count": null,
   "metadata": {},
   "outputs": [],
   "source": []
  }
 ],
 "metadata": {
  "kernelspec": {
   "display_name": "Python 3",
   "language": "python",
   "name": "python3"
  },
  "language_info": {
   "codemirror_mode": {
    "name": "ipython",
    "version": 3
   },
   "file_extension": ".py",
   "mimetype": "text/x-python",
   "name": "python",
   "nbconvert_exporter": "python",
   "pygments_lexer": "ipython3",
   "version": "3.8.1"
  }
 },
 "nbformat": 4,
 "nbformat_minor": 4
}
